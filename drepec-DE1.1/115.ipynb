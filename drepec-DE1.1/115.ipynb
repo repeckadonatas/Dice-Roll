{
 "cells": [
  {
   "cell_type": "markdown",
   "id": "0bae7226-160d-4e01-8730-2f9fd6228188",
   "metadata": {},
   "source": [
    "# Module 1: Introduction to Data Engineering"
   ]
  },
  {
   "cell_type": "markdown",
   "id": "3d380654-0127-4a04-8188-066d3e18d8da",
   "metadata": {},
   "source": [
    "## Sprint 1: Intermediate Python & Git"
   ]
  },
  {
   "cell_type": "markdown",
   "id": "6e746c76-002b-4e1f-a735-f69d2983c748",
   "metadata": {},
   "source": [
    "## Part 5: Intermediate Python V"
   ]
  },
  {
   "cell_type": "markdown",
   "id": "255dd3d0-c652-40b5-ad9c-43883bdd57c9",
   "metadata": {},
   "source": [
    "## About this Part\n",
    "\n",
    "Congrats!\n",
    "You completed almost all assignments and tasks of this Sprint.\n",
    "You did a great job.\n",
    "\n",
    "The last Part of the Sprint is Sprint Project.\n",
    "In this Part, you will need to apply the skills that you learned in the Sprint, while completing a practical assignment.\n",
    "The Sprint Projects occasionally require you to use skills, tools, techniques, etc., that were not covered during the Sprint.\n",
    "This is by design - true mastery only comes when you can identify what skills you need to solve a certain problem and acquire these skills, if you don't have them.\n",
    "\n",
    "P.S. we don't expect this project to be perfect - you will continue to improve your skills, and there will be many projects for you to apply your newly gained skills in the future.\n",
    "For now, just use what you have learned and try your best!\n",
    "\n",
    "## Objectives\n",
    "\n",
    "- Practice creating custom Python classes.\n",
    "- Practice creating APIs for class interactions.\n",
    "- Practice modularizing your code.\n",
    "- Practice versioning your code with git.\n",
    "- Practice documenting your code.\n",
    "\n",
    "## Context\n",
    "\n",
    "You are a newly hired developer in a company creating board games.\n",
    "Your company needs to rewrite its old engine for rolling the dice.\n",
    "At first, this seems like a very simple task, but after the product manager gives you a list of requirements, you understand why this is not just a five-minute task.\n",
    "\n",
    "## Requirements\n",
    "\n",
    "- Your solution should support from 1 to 5 dice.\n",
    "- The dice can have from 1 to 100 sides.\n",
    "- The solution should be able to simulate throwing the dice one or more times, returning the values of the dice.\n",
    "- The solution needs to store the information about the last 100 throws.\n",
    "- Document your code (using Python docstrings) and your overall solution (in a README file).\n",
    "- Provide suggestions about how your solution can be improved.\n",
    "\n",
    "\n",
    "## Evaluation criteria\n",
    "\n",
    "- Adherence to the requirements. How well did you meet the requirements?\n",
    "- Code quality. Was your code well-structured? Did you use the correct levels of abstraction? Did you remove commented-out and unused code? Did you adhere to the PEP8?\n",
    "- Code performance. Did you use suitable algorithms and data structures to solve the problems?\n",
    "- Presentation quality. Coherence of the presentation of the project, how well everything is explained.\n",
    "- General understanding of the topic.\n",
    "\n",
    "## Bonus challenges\n",
    "\n",
    "- Write unit tests for code.\n",
    "- Create a web API for your module.\n",
    "- Expand your solution to support weighted dice.\n",
    "\n",
    "## Correction\n",
    "\n",
    "During your project correction, you should present it as if talking to a technical team lead and a senior co-worker working in your team.\n",
    "You can assume that they will have strong data engineering and software engineering skills - they will understand technical jargon, they are expected to notice things that could have been done better, ask about the choices you've made (especially if you've made some questionable choices).\n",
    "In addition, be careful not to spend your time explaining trivial concepts or code snippets that are simple - your best bet is to focus your presentation on the more difficult portions of your code.\n",
    "\n",
    "During a correction, you may get asked questions that test your understanding of covered topics.\n",
    "\n",
    "- What is Object-Oriented Programming? Select and explain two examples where using OOP concepts can improve the quality and usability of code.\n",
    "- What is Clean Code? Select four main key concepts and explain them using real-world examples.\n",
    "- Why do we need to document code? How can you do it? What should be provided inside the documentation?\n",
    "- Why do we test code?\n",
    "\n",
    "## Submission and scheduling a correction:\n",
    "\n",
    "\n",
    "To submit the project and allow the reviewer to view your work beforehand, you need to use the Github repository that has been created for you. Please go through these material to learn more about submitting projects, scheduling corrections and using Github:\n",
    "\n",
    "- [Completing a Sprint, Submitting a Project and Scheduling Reviews](https://www.notion.so/Completing-a-Sprint-Submitting-a-Project-and-Scheduling-Reviews-4bdc709c2b7142c8aa7dd06d1d289768?pvs=4)\n",
    "\n",
    "- [Git and GitHub for Beginners](https://www.youtube.com/watch?v=RGOj5yH7evk)"
   ]
  },
  {
   "cell_type": "markdown",
   "id": "33a1d6d7-bc5b-4a61-9031-5d0110a8fe46",
   "metadata": {},
   "source": [
    "## General Correction Guidelines\n",
    "\n",
    "For an in-depth explanation about how corrections work at Turing College, please read [this doc](https://turingcollege.atlassian.net/wiki/spaces/DLG/pages/537395951/Peer+expert+reviews+corrections).\n"
   ]
  }
 ],
 "metadata": {
  "kernelspec": {
   "display_name": "Python 3",
   "language": "python",
   "name": "python3"
  },
  "language_info": {
   "codemirror_mode": {
    "name": "ipython",
    "version": 3
   },
   "file_extension": ".py",
   "mimetype": "text/x-python",
   "name": "python",
   "nbconvert_exporter": "python",
   "pygments_lexer": "ipython3",
   "version": "3.9.5"
  }
 },
 "nbformat": 4,
 "nbformat_minor": 5
}
